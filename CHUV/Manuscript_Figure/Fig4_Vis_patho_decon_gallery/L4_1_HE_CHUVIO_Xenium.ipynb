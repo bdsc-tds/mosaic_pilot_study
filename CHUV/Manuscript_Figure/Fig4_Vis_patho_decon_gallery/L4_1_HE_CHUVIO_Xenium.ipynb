{
 "cells": [
  {
   "cell_type": "code",
   "execution_count": 1,
   "id": "00710b4c-8fc2-464e-8933-4bdb43e51b6f",
   "metadata": {},
   "outputs": [],
   "source": [
    "import img2pdf\n",
    "from PIL import Image\n",
    "import matplotlib.image as mpimg\n",
    "import matplotlib.pyplot as plt\n",
    "\n",
    "from pyometiff import OMETIFFReader"
   ]
  },
  {
   "cell_type": "code",
   "execution_count": 2,
   "id": "7c808914-c58d-4e2e-aa9f-415f946dd0f3",
   "metadata": {},
   "outputs": [],
   "source": [
    "tif_path = \"/work/PRTNR/CHUV/DIR/rgottar1/spatial/Xenium/lung/CHUV_IO/HandE/L4_1.ome.tif\""
   ]
  },
  {
   "cell_type": "code",
   "execution_count": 3,
   "id": "2ff6d619-01ba-489b-bde9-e441bc580a63",
   "metadata": {},
   "outputs": [],
   "source": [
    "reader = OMETIFFReader(fpath=tif_path)"
   ]
  },
  {
   "cell_type": "code",
   "execution_count": null,
   "id": "5822cca8-fa71-4a76-880d-a363ea96a19b",
   "metadata": {},
   "outputs": [],
   "source": [
    "img_array, metadata, xml_metadata = reader.read()"
   ]
  },
  {
   "cell_type": "code",
   "execution_count": 49,
   "id": "a5904884-551f-469f-b213-a29fcff6ff09",
   "metadata": {},
   "outputs": [],
   "source": []
  },
  {
   "cell_type": "code",
   "execution_count": 50,
   "id": "4dd28047-d3c4-4e0e-b6f0-d8b8ba922fc8",
   "metadata": {},
   "outputs": [],
   "source": [
    "# Convert to PDF using img2pdf\n",
    "with open(tif_crop_pdf, \"wb\") as f:\n",
    "    f.write(img2pdf.convert(tif_crop_path))\n"
   ]
  }
 ],
 "metadata": {
  "kernelspec": {
   "display_name": "cellcharter-env",
   "language": "python",
   "name": "cellcharter-env"
  },
  "language_info": {
   "codemirror_mode": {
    "name": "ipython",
    "version": 3
   },
   "file_extension": ".py",
   "mimetype": "text/x-python",
   "name": "python",
   "nbconvert_exporter": "python",
   "pygments_lexer": "ipython3",
   "version": "3.10.13"
  }
 },
 "nbformat": 4,
 "nbformat_minor": 5
}
